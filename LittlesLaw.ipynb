{
 "metadata": {
  "name": "",
  "signature": "sha256:3e8abb122e678b43c5d6b77971115315591cdfc6d9286c6be1d38012835a0eae"
 },
 "nbformat": 3,
 "nbformat_minor": 0,
 "worksheets": [
  {
   "cells": [
    {
     "cell_type": "markdown",
     "metadata": {},
     "source": [
      "# Little's Law in a Closed System"
     ]
    },
    {
     "cell_type": "markdown",
     "metadata": {},
     "source": [
      "Below is an explanation of why Little's Law holds in a closed system. The material is taken directly from Chapter 5 - Little's Law, Building Intuition - *Insights from Basic Operations Management Models and Principles*. You can find a link to the book [here](http://www.springer.com/gp/book/9780387736983). The relevant chapter is available from the authors website, [here](http://web.mit.edu/sgraves/www/papers/).\n",
      "\n",
      "The goal of this article is to show that, in a closed system, Little's Law holds exactly. I have used (generally), the same notation as the origional author, but have somewhat deviated from the text for additional explanation. All quoted text is taken straight from the referenced chapter.\n",
      "\n",
      "Consider a \"queuing system\", which consists of discrete objects we will call \"items\" that \"arrive\" at some rate to a \"system\". Once an items arrives at the system, there is a \"service\" performed, and the item departs. We place no resrictions on on the service. We simply acknowledge that something happens. We could easily make the 'items' people, and the service 'order people according the height, and the shortest leaves first'. The interpretation of what 'item', 'system', and 'service' is depends on the situation. \n",
      "\n",
      "Little's Law states, that if\n",
      "\n",
      "$L = $ average number of items in the queuing system,  \n",
      "$W = $ average waiting time in the system for an item, and   \n",
      "$\\lambda = $ average number of items arriving per unit time, the law is\n",
      "\n",
      "$$L = \\lambda W$$\n",
      "\n",
      "The relationship is simple. The quantities easy to measure. All that is assumed is that the underlying stochastic processes are stationary. What is important though, is what is not assumed. To quote from Chapter 5 of [Building Intuition](http://www.springer.com/gp/book/9780387736983),\n",
      "> We have not mentioned how many servers there are, whether each server has its own queue or a single queue feeds all servers, what the service time distributions are, or what the distribution of inter-arrival times is, or what is the order of service of items, etc."
     ]
    },
    {
     "cell_type": "markdown",
     "metadata": {},
     "source": [
      "I'm not going to delve into why we need the underdlyting stochastic processes to be stationary. Since we are going to look at situations where that is not the case. A mall type environment is a classic example of when shoppers ('items') arrive randomly throughout a day, but which a catch. The catch is that you have different arrival rates for different times of the days, even different arrival rates for different days. In some instances, we can assume that a huge volume of arrivals is \"virtually equivalent to that of a steady-state.\" \n",
      "\n",
      "For not, let us just ignore Little's Law and what ever assumptions need to be made. Let us say we have a closed system - meaning that every item to arrive, leaves, and of those items that leave, we measured them arriving; essentially, there are no 'extra' items creeping into the system that we did not count.\n",
      "\n",
      "We have this mall, which is a closed system. Under perfect information, we can construct two sets of measurements:\n",
      "\n",
      "The first is a set of start times for each item arriving: \n",
      "$$S = \\{s_1, s_2, \\ldots , s_n\\}$$\n",
      "The second is a set of completion times for each item departing: \n",
      "$$C = \\{c_1, c_2, \\ldots, c_n\\}$$\n",
      "\n",
      "We take these measurements over some period of time $T$, of the $n$ items to arrive and depart from the system. At the beginning of this period, at $t=0$, there were no items in either set. At the end of this period, at $t=T$, no more items arrive, and all items that were in the system have completed. What this means is that, for every item to start, we have firstly, captured them in $S$, and secondly, captured their completion times in $C$. Another interpreation of this is that, at time 0 and at time $T$, the volume of the system is 0. \n",
      "\n",
      "From the above, we have that for each item starting in $S$, we have a completion time in $C$. Without loss of generality, we can safely assume that item $j$ started at time $s_j$, and completed at time $c_j$. The wait time then, that item $j$ spent in the system is simply \n",
      "$$W_j = c_j - s_j$$\n",
      "\n",
      "The average time then, that all items spent in the system, is simply\n",
      "\n",
      "$$W = \\dfrac{1}{n} \\sum_{j=1}^{n} W_j = \\dfrac{1}{n} \\sum_{j=1}^{n} (c_j - s_j)$$\n",
      "\n",
      "It must be noted here, that we can rewrite this sum as\n",
      "\n",
      "$$W = \\dfrac{1}{n} \\left( \\sum_{j=1}^{n} c_j -  \\sum_{j=1}^{n} s_j \\right)$$\n",
      "\n",
      "So, if we tracked each item individually, and knew when it arrived, and when it departed, calculating the average wait time is a trivial exercise. But now, suppose that we only knew when some item arrived, and when some item departed. That is, we are saying that the start time for item $j$ is $s_j$, but its completion is not necesarily $c_j$. Since we do not know when a specific item left, we only know that if did leave at some point. \n",
      "\n",
      "Under these conditions, we have the set $C^* = \\{c^1, c^2, \\ldots, c^n\\}$, where $c^j$ is simply the completion time for some item in the system. We will often have that $c_j \\neq c^j$, as items will not deapart in the same order that they arrived. It should be easy to see, that $C^*$ is simply a permuation of $C$. Since $C^*$ is simply a reordering of $C$, we must have that\n",
      "\n",
      "$$\\sum_{j=1}^{n} c_j = \\sum_{j=1}^{n} c^j$$ \n",
      "\n",
      "We can thus calculate the average wait time to be\n",
      "\n",
      "$$W = \\dfrac{1}{n} \\left( \\sum_{j=1}^{n} c_j -  \\sum_{j=1}^{n} s_j \\right) = \\dfrac{1}{n} \\left( \\sum_{j=1}^{n} c^j -  \\sum_{j=1}^{n} s_j \\right)$$\n",
      "\n",
      "Alternatively, you can define $W^j = c^j - s_j$, and repeate the summation process.\n",
      "\n",
      "Here we must note the two assumption we have made to ensure that the sums stand:\n",
      "* **Boundary Conditions** - we specify the finite time window to start and end with an empty sytem, and\n",
      "* **Conservation of Items** - we assume that all arriving items will eventually complete service and exit from the systeml there are no lost items, so the number of arrivals equals the number of departures.\n",
      "\n",
      "In a mall type environment, both of these assumptions are valid.\n",
      "\n",
      "For now, we have the $W$ in Little's Law. We now need only find $L$, $\\lambda$, and show their equivalence. "
     ]
    },
    {
     "cell_type": "markdown",
     "metadata": {},
     "source": [
      "If we let $N(t)$ be the cumulative number of arrivals to the sytem, and $D(t)$ the cumulative number of departures from the system, for time $t$. We have the volume at any time equal to $L(t) = N(t) - D(t)$. Note here that, since items are conserved, $N(t) \\geq D(t)$ for all $t$ - since an item cannot depart that has not arrived. The average volume of the time period $T$ is thus\n",
      "\n",
      "$$L = \\dfrac{1}{T} \\int_{t=0}^{t=T} N(t) - D(t) \\; dt$$\n",
      "\n",
      "We can relate $L$ to $W$ by noting that\n",
      "\n",
      "$$\\int_{t=0}^{t=T} N(t) - D(t) \\; dt = \\sum_{j=1}^n W^j$$\n",
      "\n",
      "Thus, \n",
      "\n",
      "$$L = \\dfrac{1}{T} \\int_{t=0}^{t=T} N(t) - D(t) \\; dt = \\dfrac{1}{T} \\sum_{j=1}^n W^j = \\dfrac{n}{t} W$$"
     ]
    },
    {
     "cell_type": "markdown",
     "metadata": {},
     "source": [
      "From the above, if we simply let $\\lambda = n/t$ - which is the average rate of arrivals, we have Little's Law for a closed system. We have at no stage did we assume a stationary stochastic process. The only assumptins required to make Little's Law valid are the two given above about boundary conditions and a conservation of items. \n",
      "\n",
      "In fact, if your goal is to simply measure the average time a item spends in the system, you do not even need to invoke Little's Law, and may stop after the assumptions. \n",
      "\n",
      "Little's Law nevertheless, holds exactly. \"We have no probability distributions and so these are not expected values. Looking at the derivation of the result, we see that we are talking about everyday sample averages in the case of waits and arrival rates and finite time averages in the case of queues. So Little's Law here shows us an exact relation among sample and time averages.\"\n",
      "\n",
      "If we replace \"closed system\" with shopping mall, bank, shop, etc, and \"item\" with customer, visitor, shopper, etc, Little's Law holds.\n",
      "\n",
      "The Chapter linked at the beginning of this post is worth the read, in fact, it is worth reading even if you simply skipped the maths. "
     ]
    },
    {
     "cell_type": "code",
     "collapsed": false,
     "input": [],
     "language": "python",
     "metadata": {},
     "outputs": []
    }
   ],
   "metadata": {}
  }
 ]
}
